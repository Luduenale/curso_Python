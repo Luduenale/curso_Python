{
  "nbformat": 4,
  "nbformat_minor": 0,
  "metadata": {
    "colab": {
      "name": "Untitled1.ipynb",
      "provenance": [],
      "collapsed_sections": []
    },
    "kernelspec": {
      "name": "python3",
      "display_name": "Python 3"
    }
  },
  "cells": [
    {
      "cell_type": "code",
      "metadata": {
        "id": "DfwCpPhhIIq9",
        "colab_type": "code",
        "colab": {
          "base_uri": "https://localhost:8080/",
          "height": 68
        },
        "outputId": "46cb3dd9-8270-44a7-d2a2-ea0bdaf2973a"
      },
      "source": [
        "a = input(\"ingresa un valor: \")\n",
        "b = input(\"ingresa otro valor: \")\n",
        "print(\"los valores ingresados fueron\",a,\"y\",b)"
      ],
      "execution_count": null,
      "outputs": [
        {
          "output_type": "stream",
          "text": [
            "ingresa un valor: 54\n",
            "ingresa otro valor: 54\n",
            "los valores ingresados fueron 54 y 54\n"
          ],
          "name": "stdout"
        }
      ]
    },
    {
      "cell_type": "code",
      "metadata": {
        "id": "1vmeCcAbKy_D",
        "colab_type": "code",
        "colab": {
          "base_uri": "https://localhost:8080/",
          "height": 68
        },
        "outputId": "c3ab97e6-af7f-47f4-b063-b28790510b69"
      },
      "source": [
        "a = int(input(\"ingrese un valor: \"))\n",
        "b = int(input(\"ingrese otro valor: \"))\n",
        "c = a + b\n",
        "print(\"los valores ingresados fueron\",a, \"y\",b,\", y la suma es:\",c)"
      ],
      "execution_count": null,
      "outputs": [
        {
          "output_type": "stream",
          "text": [
            "ingrese un valor: 6\n",
            "ingrese otro valor: 4\n",
            "los valores ingresador fueron 6 y 4 , y la suma es: 10\n"
          ],
          "name": "stdout"
        }
      ]
    },
    {
      "cell_type": "code",
      "metadata": {
        "id": "dCRjUtPOLfR5",
        "colab_type": "code",
        "colab": {
          "base_uri": "https://localhost:8080/",
          "height": 85
        },
        "outputId": "2c69afad-86eb-4f95-ad2d-bd3429fe0825"
      },
      "source": [
        "a = int(input(\"ingrese un valor: \"))\n",
        "b = int(input(\"ingrese otro valor: \"))\n",
        "d = int(input(\"ingrese otro valor: \"))\n",
        "\n",
        "if(a > b and a > d):\n",
        "  print(\"Los valores ingresados fueron\",a,\"y\",b,\"y\",d,\", y el mayor fue: \",a) \n",
        "elif(b >= a and b > d):\n",
        "  print(\"Los valores ingresados fueron\",a,\"y\",b,\"y\",d,\", y el mayor fue:\",b)\n",
        "elif(d >= a and d > b or d > a and d == b):\n",
        "  print(\"Los valores ingresados fueron\",a,\"y\",b,\"y\",d,\", y el mayor fue:\",d)\n",
        "else:\n",
        "  print(\"todos los numeros son iguales\")\n",
        "\n"
      ],
      "execution_count": 59,
      "outputs": [
        {
          "output_type": "stream",
          "text": [
            "ingrese un valor: 8\n",
            "ingrese otro valor: 8\n",
            "ingrese otro valor: 9\n",
            "Los valores ingresados fueron 8 y 8 y 9 , y el mayor fue: 9\n"
          ],
          "name": "stdout"
        }
      ]
    }
  ]
}