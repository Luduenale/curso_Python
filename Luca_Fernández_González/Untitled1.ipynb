{
  "nbformat": 4,
  "nbformat_minor": 0,
  "metadata": {
    "colab": {
      "name": "Untitled1.ipynb",
      "provenance": []
    },
    "kernelspec": {
      "name": "python3",
      "display_name": "Python 3"
    }
  },
  "cells": [
    {
      "cell_type": "code",
      "metadata": {
        "id": "DfwCpPhhIIq9",
        "colab_type": "code",
        "colab": {
          "base_uri": "https://localhost:8080/",
          "height": 68
        },
        "outputId": "46cb3dd9-8270-44a7-d2a2-ea0bdaf2973a"
      },
      "source": [
        "a = input(\"ingresa un valor: \")\n",
        "b = input(\"ingresa otro valor: \")\n",
        "print(\"los valores ingresados fueron\",a,\"y\",b)"
      ],
      "execution_count": 16,
      "outputs": [
        {
          "output_type": "stream",
          "text": [
            "ingresa un valor: 54\n",
            "ingresa otro valor: 54\n",
            "los valores ingresados fueron 54 y 54\n"
          ],
          "name": "stdout"
        }
      ]
    },
    {
      "cell_type": "code",
      "metadata": {
        "id": "1vmeCcAbKy_D",
        "colab_type": "code",
        "colab": {
          "base_uri": "https://localhost:8080/",
          "height": 68
        },
        "outputId": "c3ab97e6-af7f-47f4-b063-b28790510b69"
      },
      "source": [
        "a = int(input(\"ingrese un valor: \"))\n",
        "b = int(input(\"ingrese otro valor: \"))\n",
        "c = a + b\n",
        "print(\"los valores ingresados fueron\",a, \"y\",b,\", y la suma es:\",c)"
      ],
      "execution_count": 19,
      "outputs": [
        {
          "output_type": "stream",
          "text": [
            "ingrese un valor: 6\n",
            "ingrese otro valor: 4\n",
            "los valores ingresador fueron 6 y 4 , y la suma es: 10\n"
          ],
          "name": "stdout"
        }
      ]
    },
    {
      "cell_type": "code",
      "metadata": {
        "id": "dCRjUtPOLfR5",
        "colab_type": "code",
        "colab": {
          "base_uri": "https://localhost:8080/",
          "height": 85
        },
        "outputId": "ee5b5290-ba94-461f-f0ea-dd09c463e5bb"
      },
      "source": [
        "a = int(input(\"ingrese un valor: \"))\n",
        "b = int(input(\"ingrese otro valor: \"))\n",
        "d = int(input(\"ingrese otro valor: \"))\n",
        "\n",
        "if(a > b and a > d):\n",
        "  print(\"Los valores ingresados fueron\",a,\"y\",b,\"y\",d,\", y el mayor fue: \",a) \n",
        "elif(b > a and b > d):\n",
        "  print(\"Los valores ingresados fueron\",a,\"y\",b,\"y\",d,\", y el mayor fue: \",b)\n",
        "elif(d > a and d > b):\n",
        "  print(\"Los valores ingresados fueron\",a,\"y\",b,\"y\",d,\", y el mayor fue: \",d)\n",
        "elif(a == b and b == d):\n",
        "  print(\"los numeros son iguales, el mayor es:\",a)\n",
        "elif(a == b and a > d):\n",
        "  print(\"Los valores ingresados fueron\",a,\"y\",b,\"y\",d,\", y los mayores son:\",a)\n",
        "elif(a == d and a > b):\n",
        "  print(\"Los valores ingresados fueron\",a,\"y\",b,\"y\",d,\", y los mayores son:\",a)\n",
        "elif(d == b and b > a):\n",
        "  print(\"Los valores ingresados fueron\",a,\"y\",b,\"y\",d,\", y los mayores son:\",b)\n"
      ],
      "execution_count": 68,
      "outputs": [
        {
          "output_type": "stream",
          "text": [
            "ingrese un valor: 1\n",
            "ingrese otro valor: 0\n",
            "ingrese otro valor: 1\n",
            "Los valores ingresados fueron 1 y 0 y 1 , y los mayores son: 1\n"
          ],
          "name": "stdout"
        }
      ]
    }
  ]
}