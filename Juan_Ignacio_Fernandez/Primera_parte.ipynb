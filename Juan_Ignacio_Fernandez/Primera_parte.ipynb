{
  "nbformat": 4,
  "nbformat_minor": 0,
  "metadata": {
    "colab": {
      "name": "Primera parte.ipynb",
      "provenance": [],
      "collapsed_sections": [
        "aiJcbdUfK3bL"
      ]
    },
    "kernelspec": {
      "name": "python3",
      "display_name": "Python 3"
    }
  },
  "cells": [
    {
      "cell_type": "markdown",
      "metadata": {
        "id": "aiJcbdUfK3bL",
        "colab_type": "text"
      },
      "source": [
        "---\n",
        " **Seccion Nº1 : *Nociones básicas de Python***\n",
        "--- \n",
        "---"
      ]
    },
    {
      "cell_type": "markdown",
      "metadata": {
        "id": "COyML1KULgEa",
        "colab_type": "text"
      },
      "source": [
        " Se usara el caracter reservado \"#\" para definir que la linea sera de comentario y no va a ser interpretada por el compilador\n",
        "\n",
        "**Tipos de variables:**\n",
        "\n",
        "\n",
        "\n",
        "```\n",
        "*int*       --> enteros\n",
        "\n",
        "*float*     --> numero reales\n",
        "\n",
        "*booleano*  --> variable binaria de verdadero o falso\n",
        "\n",
        "*string*    --> cadena de texto\n",
        "\n",
        "*char*      --> caracter alfanumerico\n",
        "```\n",
        "\n",
        "**Operadores Logicos:**\n",
        "\n",
        "```\n",
        "AND       --> condicion1 \"y\" condicion2\n",
        "OR        --> condicion1 \"o\" condicion2\n",
        "```\n",
        "\n",
        "**Operadores de comparacion:**\n",
        "\n",
        "\n",
        "```\n",
        "<         --> valor1 \"menor (<) que\" valor2\n",
        ">         --> valor1 \"mayor (>) que\" valor2\n",
        "==        --> valor1 \"igual (=) que\" valor2 \n",
        "!=        --> valor1 \"distinto (!=) que\" valor2\n",
        "```                     \n",
        "**operadores de asignacion:**\n",
        "\n",
        "\n",
        "\n",
        "```\n",
        "=         --> le asigno a variable1 el valor1 (variable1=valor1)\n",
        "```\n"
      ]
    },
    {
      "cell_type": "markdown",
      "metadata": {
        "id": "-IDDA1dvLFCR",
        "colab_type": "text"
      },
      "source": [
        "\n",
        "\n",
        "---\n",
        "\n",
        "\n"
      ]
    },
    {
      "cell_type": "code",
      "metadata": {
        "id": "veBU_azb8XaH",
        "colab_type": "code",
        "colab": {}
      },
      "source": [
        "#   casteo --> indica al compilador el tipo de dato\n",
        "#   creacion de variables\n",
        "a = str(\"hola 45 + 1.8\")\n",
        "b = int(6)\n",
        "c = float(1.5) "
      ],
      "execution_count": null,
      "outputs": []
    },
    {
      "cell_type": "markdown",
      "metadata": {
        "id": "CSO24ieCLJJO",
        "colab_type": "text"
      },
      "source": [
        "\n",
        "\n",
        "---\n",
        "\n",
        "\n"
      ]
    },
    {
      "cell_type": "code",
      "metadata": {
        "id": "0GnVVG3QC-AI",
        "colab_type": "code",
        "colab": {
          "base_uri": "https://localhost:8080/",
          "height": 77
        },
        "outputId": "3541d870-8827-49c5-bb6b-6a8137f4df83"
      },
      "source": [
        "# uso de operadores de comparacion\n",
        "print(b > 5)\n",
        "print(b < 5)\n",
        "print(b == 6) "
      ],
      "execution_count": null,
      "outputs": [
        {
          "output_type": "stream",
          "text": [
            "True\n",
            "False\n",
            "True\n"
          ],
          "name": "stdout"
        }
      ]
    },
    {
      "cell_type": "markdown",
      "metadata": {
        "id": "cpB7SZi8LLXo",
        "colab_type": "text"
      },
      "source": [
        "\n",
        "\n",
        "---\n",
        "\n",
        "\n",
        "\n"
      ]
    },
    {
      "cell_type": "code",
      "metadata": {
        "id": "N_yQFrMFEJD1",
        "colab_type": "code",
        "colab": {
          "base_uri": "https://localhost:8080/",
          "height": 57
        },
        "outputId": "2490f7c9-ee0d-4e7e-f240-35f105b3a3a2"
      },
      "source": [
        "# uso de operadores logicos\n",
        "print(b > 5 and b < 0)\n",
        "print(b > 5 or b < 0)"
      ],
      "execution_count": null,
      "outputs": [
        {
          "output_type": "stream",
          "text": [
            "False\n",
            "True\n"
          ],
          "name": "stdout"
        }
      ]
    },
    {
      "cell_type": "markdown",
      "metadata": {
        "id": "kNeDutLRLQh_",
        "colab_type": "text"
      },
      "source": [
        "\n",
        "\n",
        "---\n",
        "\n"
      ]
    },
    {
      "cell_type": "code",
      "metadata": {
        "id": "i61Out8eFDmA",
        "colab_type": "code",
        "colab": {}
      },
      "source": [
        "#ingreso de datos --> lo que se ingresa a los parentesis es un \"PARAMETRO\"\n",
        "mensaje = \"Ingrese un numero entero\"\n",
        "# los parametros de entrada van separados con \",\"\n",
        "mensaje_entrada = 0\n",
        "mensaje_entrada = int(input(mensaje))\n",
        "print(\"valor ingresado + 5: \" , (mensaje_entrada + 5))"
      ],
      "execution_count": null,
      "outputs": []
    },
    {
      "cell_type": "markdown",
      "metadata": {
        "id": "j1gz8wiOLTSU",
        "colab_type": "text"
      },
      "source": [
        "\n",
        "\n",
        "---\n",
        "\n",
        "\n",
        "\n",
        "---\n",
        "\n"
      ]
    },
    {
      "cell_type": "markdown",
      "metadata": {
        "id": "dSQ4KPQTLYM6",
        "colab_type": "text"
      },
      "source": [
        "---\n",
        " **Seccion Nº2 : *Uso de funciones Condicionales***\n",
        "--- \n",
        "---"
      ]
    },
    {
      "cell_type": "code",
      "metadata": {
        "id": "gtCWRjCdF47D",
        "colab_type": "code",
        "colab": {}
      },
      "source": [
        "# 1)if                    --> \"si\"\n",
        "# 2)else                  --> \"sino\"\n",
        "# 3)elif --> (else if)    --> \"sino si\""
      ],
      "execution_count": null,
      "outputs": []
    },
    {
      "cell_type": "code",
      "metadata": {
        "id": "KoVtBpsIOVln",
        "colab_type": "code",
        "colab": {}
      },
      "source": [
        "# sintaxis\n",
        "# (funcion_Condicional)(condicion):\n",
        "#     (\n",
        "#       cuerpo  \n",
        "#        )\n",
        "\n",
        "a=int(input(\"Ingrese el primer valor:\"))\n",
        "b=int(input(\"Ingrese el segundo valor:\"))\n",
        "print()\n",
        "\n",
        "#primer caso con uso de if y else\n",
        "print(\"Se cumple que a es igual a b?\")\n",
        "if(a == b):\n",
        "  print(\"Fue correcto\")\n",
        "  print(\"esta contemplado\") \n",
        "else:\n",
        "  print(\"Fue incorrecto\") \n",
        "  print(\"esta contemplado\")\n",
        "\n",
        "print()\n",
        "\n",
        "# segundo caso con uso de if, elif, else\n",
        "if(a == b):\n",
        "  print(\"'a' fue igual a 'b'\")\n",
        "elif(a < b):\n",
        "  print(\"'a' fue menor a 'b'\")\n",
        "else:\n",
        "  print(\"'a' fue mayor a 'b'\")   \n",
        "\n",
        "print()\n",
        "\n",
        "#tercer caso con uso de if, elif, else y ademas and y or\n",
        "if(a == b and a > 0):\n",
        "  print(\"'a' es igual a 'b' y ademas es positivo\")\n",
        "elif(a == b and a < 0):\n",
        "  print(\"'a' es igual a 'b' y ademas es negativo\")  \n",
        "else:\n",
        "  print(\"los valores de a y b respectivamente son: a-->\",a,\", b-->\",b)  "
      ],
      "execution_count": null,
      "outputs": []
    },
    {
      "cell_type": "markdown",
      "metadata": {
        "id": "iHuWDEB0IBi8",
        "colab_type": "text"
      },
      "source": [
        "---\n",
        " **Seccion Nº3 : *Bucle \"While\" y bucle \"for\"***\n",
        "--- \n",
        "---"
      ]
    },
    {
      "cell_type": "markdown",
      "metadata": {
        "id": "j-MdZCXUIPIe",
        "colab_type": "text"
      },
      "source": [
        "**Sintaxis de bucle \"while\":**\n",
        "\n",
        "\n",
        "\n",
        "```\n",
        "while(condicion):\n",
        "  cuerpo\n",
        "  cuerpo\n",
        "  cuerpo\n",
        "```"
      ]
    },
    {
      "cell_type": "code",
      "metadata": {
        "id": "PzFUp18UIMQ8",
        "colab_type": "code",
        "colab": {
          "base_uri": "https://localhost:8080/",
          "height": 37
        },
        "outputId": "346fe7c4-4527-44b0-dbbe-2d7941349e53"
      },
      "source": [
        "rangoMax = 10\n",
        "iterador = 0\n",
        "\n",
        "while(iterador < rangoMax):\n",
        "  print(\"El iterador vale: \",iterador)\n",
        "  iterador = iterador + 1\n",
        "print(\"Termino el while\")  "
      ],
      "execution_count": null,
      "outputs": [
        {
          "output_type": "stream",
          "text": [
            "Termino el while\n"
          ],
          "name": "stdout"
        }
      ]
    },
    {
      "cell_type": "code",
      "metadata": {
        "id": "XcXom4WzrwEB",
        "colab_type": "code",
        "colab": {}
      },
      "source": [
        "bandera = bool(True)\n",
        "control = 0\n",
        "ejemplo = 0\n",
        "\n",
        "while(bandera):\n",
        "  control = control +1\n",
        "  if(control > 10):\n",
        "    bandera = bool(False)\n",
        "    ejemplo = 1   \n",
        "  print(ejemplo)\n",
        "print(ejemplo)    "
      ],
      "execution_count": null,
      "outputs": []
    },
    {
      "cell_type": "markdown",
      "metadata": {
        "id": "pVVlSufpJIMA",
        "colab_type": "text"
      },
      "source": [
        "Error frecuente:\n",
        "\n",
        "- Uno de los errores mas comunes es crear un bucle infinito, este sucedera cuando la condicion del while nunca sea incorrecta, de este modo siempre nos quedaremos dentro de nuestro bucle infinito \n",
        "\n",
        "```\n",
        "i = 0\n",
        "j = 1\n",
        "while(i < j):\n",
        "  print(\"hay bucle infinito)\n",
        "```\n",
        "Esto producira un fallo inminente del programa "
      ]
    },
    {
      "cell_type": "markdown",
      "metadata": {
        "id": "yjfIJFliKfUz",
        "colab_type": "text"
      },
      "source": [
        "---\n",
        "**Sintaxis de bucle \"for\":**\n",
        "\n",
        "\n",
        "\n",
        "- variante 1 (uso de la funcion range,)\n",
        "```\n",
        "for (variable) in range(a,b):\n",
        "   cuerpo\n",
        "   cuerpo\n",
        "   cuerpo\n",
        "```\n",
        "aqui el primer parametro (a) sera el inicio y (b-1) sera el fin\n",
        "\n",
        "\n",
        "- variante 2(uso de listas)\n",
        "```\n",
        "listaColores = [\"azul\", \"rojo\", \"verde\"]\n",
        "for (variable) in listaColores:\n",
        "    print(variable)\n",
        "```\n",
        "aqui la variable tomara un color en cada iteracion\n",
        "\n",
        "\n",
        "- variante 3(uso de tupla)\n",
        "```\n",
        "tuplaNombres = ('jose', 'gian', 'tulo', 'chon')\n",
        "for(variable) in tuplaNombres:\n",
        "    print(variable)\n",
        "```\n",
        "aqui la variable tomara un nombre en cada iteracion\n",
        "\n"
      ]
    },
    {
      "cell_type": "code",
      "metadata": {
        "id": "HkDoHhpsKco4",
        "colab_type": "code",
        "colab": {
          "base_uri": "https://localhost:8080/",
          "height": 257
        },
        "outputId": "d926fdde-0ae0-419b-cee9-dc5c15dda5f4"
      },
      "source": [
        "# variante 1:\n",
        "print(\"previo\")\n",
        "for i in range(0,10):\n",
        "  print(\"la variable i toma el valor: \",i)\n",
        "print(\"posterior\")  "
      ],
      "execution_count": null,
      "outputs": [
        {
          "output_type": "stream",
          "text": [
            "previo\n",
            "la variable i toma el valor:  0\n",
            "la variable i toma el valor:  1\n",
            "la variable i toma el valor:  2\n",
            "la variable i toma el valor:  3\n",
            "la variable i toma el valor:  4\n",
            "la variable i toma el valor:  5\n",
            "la variable i toma el valor:  6\n",
            "la variable i toma el valor:  7\n",
            "la variable i toma el valor:  8\n",
            "la variable i toma el valor:  9\n",
            "posterior\n"
          ],
          "name": "stdout"
        }
      ]
    },
    {
      "cell_type": "code",
      "metadata": {
        "id": "dSpCC99oO8ms",
        "colab_type": "code",
        "colab": {
          "base_uri": "https://localhost:8080/",
          "height": 97
        },
        "outputId": "0b5a7a11-c1b9-45d1-e361-d3e4ee82b7bf"
      },
      "source": [
        "#variante 2:\n",
        "listaColores = [\"azul\", \"rojo\", \"verde\"]\n",
        "for color in listaColores:\n",
        "  print(\"la variable color toma el valor: \",color)"
      ],
      "execution_count": null,
      "outputs": [
        {
          "output_type": "stream",
          "text": [
            "la variable color toma el valor:  azul\n",
            "la variable color toma el valor:  rojo\n",
            "la variable color toma el valor:  verde\n",
            "la variable color toma el valor:  rosa\n"
          ],
          "name": "stdout"
        }
      ]
    },
    {
      "cell_type": "code",
      "metadata": {
        "id": "0f0K3JmwPHg2",
        "colab_type": "code",
        "colab": {
          "base_uri": "https://localhost:8080/",
          "height": 97
        },
        "outputId": "a5f8139b-8fdc-415a-b18c-8c778806952b"
      },
      "source": [
        "#variable 3:\n",
        "tuplaNombres = ('jose', 'gian', 'tulo', 'chon')\n",
        "for nombre in tuplaNombres:\n",
        "  print(\"la variable nombre toma el valor: \", nombre)"
      ],
      "execution_count": null,
      "outputs": [
        {
          "output_type": "stream",
          "text": [
            "la variable nombre toma el valor:  jose\n",
            "la variable nombre toma el valor:  gian\n",
            "la variable nombre toma el valor:  tulo\n",
            "la variable nombre toma el valor:  chon\n"
          ],
          "name": "stdout"
        }
      ]
    },
    {
      "cell_type": "code",
      "metadata": {
        "id": "2B9wyK5KPRFB",
        "colab_type": "code",
        "colab": {}
      },
      "source": [
        ""
      ],
      "execution_count": null,
      "outputs": []
    }
  ]
}