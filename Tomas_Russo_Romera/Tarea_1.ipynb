{
  "nbformat": 4,
  "nbformat_minor": 0,
  "metadata": {
    "colab": {
      "name": "Untitled0.ipynb",
      "provenance": []
    },
    "kernelspec": {
      "name": "python3",
      "display_name": "Python 3"
    }
  },
  "cells": [
    {
      "cell_type": "code",
      "metadata": {
        "id": "VWK789rrIV5u",
        "colab_type": "code",
        "colab": {}
      },
      "source": [
        "#Punto Nº1:\n",
        "\n",
        "#Realize un programa que permita ingresar por teclado 2 valores ('a' y 'b') y que se imprima por pantalla con el siguiente formato:\n",
        "\n",
        "#\"Los valores ingresados fueron a y b\" ---> reemplazando a y b por sus valores ingresados\n",
        "\n",
        "#Punto Nº2:\n",
        "\n",
        "#Realize un programa que permita ingresar por teclado 2 valores enteros ('a' y 'b') y que se imprima por pantalla la suma con el siguiente formato:\n",
        "\n",
        "#\"Los valores ingresados fueron 4 y 5, y la suma es: 9 \" ---> ( para el caso de que a=4 y b=5)\n",
        "\n",
        "#Punto Nº3:\n",
        "\n",
        "#Realize un programa que permita ingresar por teclado 3 valores enteros (a,b y c) e imprima por pantalla el valor mas grande con el siguiente formato:\n",
        "\n",
        "#\"Los valores ingresados fueron 4 y 5 y 8, y el mayor fue: 8 \" --> (para el caso de que a=4, b=5 y c= 8)\n",
        "\n",
        "\n",
        "\n"
      ],
      "execution_count": null,
      "outputs": []
    },
    {
      "cell_type": "code",
      "metadata": {
        "id": "P48px2h6de-v",
        "colab_type": "code",
        "colab": {}
      },
      "source": [
        ""
      ],
      "execution_count": null,
      "outputs": []
    },
    {
      "cell_type": "code",
      "metadata": {
        "id": "rXrQyhq3peAc",
        "colab_type": "code",
        "colab": {
          "base_uri": "https://localhost:8080/",
          "height": 68
        },
        "outputId": "c637492c-e152-4fbe-9302-829ad193993e"
      },
      "source": [
        "# Punto 1\n",
        "\n",
        "a =  float (input (\"ingrese primer valor:\"))\n",
        "b =  float (input (\"ingrese segundo valor:\"))\n",
        "\n",
        "print (\"los valores ingresados fueron\", a,\"y\", b)"
      ],
      "execution_count": null,
      "outputs": [
        {
          "output_type": "stream",
          "text": [
            "ingrese primer valor:1\n",
            "ingrese segundo valor:2\n",
            "los valores ingresados fueron 1.0 y 2.0\n"
          ],
          "name": "stdout"
        }
      ]
    },
    {
      "cell_type": "code",
      "metadata": {
        "id": "9qqdMnTEJKu0",
        "colab_type": "code",
        "colab": {
          "base_uri": "https://localhost:8080/",
          "height": 68
        },
        "outputId": "7496e722-21f1-42f2-d2f3-4e0064d91b70"
      },
      "source": [
        "# Punto 2\n",
        "\n",
        "a = int (input('ingrese primer valor:'))\n",
        "b = int (input('ingrese segundo valor:'))\n",
        "\n",
        "c = a + b\n",
        "\n",
        "print('los valores ingresados fueron',a,'y',b,'y la suma es:',c)"
      ],
      "execution_count": null,
      "outputs": [
        {
          "output_type": "stream",
          "text": [
            "ingrese primer valor:1\n",
            "ingrese segundo valor:2\n",
            "los valores ingresados fueron 1 y 2 y la suma es: 3\n"
          ],
          "name": "stdout"
        }
      ]
    },
    {
      "cell_type": "code",
      "metadata": {
        "id": "b4SJG3xWq6B1",
        "colab_type": "code",
        "colab": {
          "base_uri": "https://localhost:8080/",
          "height": 85
        },
        "outputId": "cd55ea32-8f87-4907-edb6-14269ec7ed52"
      },
      "source": [
        "# Punto 3\n",
        "\n",
        "a = int (input ('ingrese primer valor:'))\n",
        "maximo = a\n",
        "b = int (input ('ingrese segundo valor:'))\n",
        "if (maximo < b):\n",
        "  maximo = b\n",
        "c = int (input ('ingrese tercer valor:'))\n",
        "\n",
        "if (maximo < c):\n",
        "  maximo = c\n",
        "\n",
        "print(\"valor maximo:\",maximo)\n",
        "\n",
        "\n",
        "#if (a > b and a > c):\n",
        "#  print ('los valores ingresados fueron', a,',', b,'y', c,'y el mayor fue:', a,)\n",
        "\n",
        "#elif (b > c):\n",
        " # print('los valores ingresados fueron', a,\",\", b,'y', c,'y el mayor fue:', b,)\n",
        "#else:\n",
        "#  print('los valores ingresados fueron', a,\",\", b,'y', c,'y el mayor fue:', c,)"
      ],
      "execution_count": 6,
      "outputs": [
        {
          "output_type": "stream",
          "text": [
            "ingrese primer valor:3\n",
            "ingrese segundo valor:3\n",
            "ingrese tercer valor:789\n",
            "los valores ingresados fueron 3 , 3 y 789 y el mayor fue: 789\n"
          ],
          "name": "stdout"
        }
      ]
    }
  ]
}