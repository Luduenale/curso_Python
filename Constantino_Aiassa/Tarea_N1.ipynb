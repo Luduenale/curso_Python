{
  "nbformat": 4,
  "nbformat_minor": 0,
  "metadata": {
    "colab": {
      "name": "Tarea N1.ipynb",
      "provenance": [],
      "collapsed_sections": []
    },
    "kernelspec": {
      "name": "python3",
      "display_name": "Python 3"
    }
  },
  "cells": [
    {
      "cell_type": "markdown",
      "metadata": {
        "id": "5W3-5u8iMWxf",
        "colab_type": "text"
      },
      "source": [
        "Punto Nº1:\n",
        "\n",
        "Realize un programa que permita ingresar por teclado 2 valores ('a' y 'b') y que se imprima por pantalla con el siguiente formato:\n",
        "\n",
        "\"Los valores ingresados fueron a y b\" ---> reemplazando a y b por sus valores ingresados\n",
        "\n",
        "Punto Nº2:\n",
        "\n",
        "Realize un programa que permita ingresar por teclado 2 valores enteros ('a' y 'b') y que se imprima por pantalla la suma con el siguiente formato:\n",
        "\n",
        "\"Los valores ingresados fueron 4 y 5, y la suma es: 9 \" ---> ( para el caso de que a=4 y b=5)\n",
        "\n",
        "Punto Nº3:\n",
        "\n",
        "Realize un programa que permita ingresar por teclado 3 valores enteros (a,b y c) e imprima por pantalla el valor mas grande con el siguiente formato:\n",
        "\n",
        "\"Los valores ingresados fueron 4 y 5 y 8, y el mayor fue: 8 \" --> (para el caso de que a=4, b=5 y c= 8)"
      ]
    },
    {
      "cell_type": "code",
      "metadata": {
        "id": "idCZ_a0cI5_R",
        "colab_type": "code",
        "colab": {}
      },
      "source": [
        "#Ejercicio N°1\n",
        "a = input('Ingrese un valor para a ')\n",
        "b = input('Ingrese un valor para b ')\n",
        "print('Los valores ingresados fueron '+ a +' y '+ b)"
      ],
      "execution_count": null,
      "outputs": []
    },
    {
      "cell_type": "code",
      "metadata": {
        "id": "vMANvXmSqqhl",
        "colab_type": "code",
        "colab": {
          "base_uri": "https://localhost:8080/",
          "height": 231
        },
        "outputId": "9563d063-ec0a-4e35-8e39-310e120773f4"
      },
      "source": [
        "#Ejercicio N2\n",
        "a = int(input('Ingrese un valor entero para a '))\n",
        "b = int(input('Ingrese un valor entero para b '))\n",
        "print('Los valores ingresados fueron ',a,' y ',b,',y la suma es: ',a+b)\n"
      ],
      "execution_count": 5,
      "outputs": [
        {
          "output_type": "stream",
          "text": [
            "Ingrese un valor entero para a 2.5\n"
          ],
          "name": "stdout"
        },
        {
          "output_type": "error",
          "ename": "ValueError",
          "evalue": "ignored",
          "traceback": [
            "\u001b[0;31m---------------------------------------------------------------------------\u001b[0m",
            "\u001b[0;31mValueError\u001b[0m                                Traceback (most recent call last)",
            "\u001b[0;32m<ipython-input-5-1c7a37a0f61f>\u001b[0m in \u001b[0;36m<module>\u001b[0;34m()\u001b[0m\n\u001b[1;32m      1\u001b[0m \u001b[0;31m#Ejercicio N2\u001b[0m\u001b[0;34m\u001b[0m\u001b[0;34m\u001b[0m\u001b[0;34m\u001b[0m\u001b[0m\n\u001b[0;32m----> 2\u001b[0;31m \u001b[0ma\u001b[0m \u001b[0;34m=\u001b[0m \u001b[0mint\u001b[0m\u001b[0;34m(\u001b[0m\u001b[0minput\u001b[0m\u001b[0;34m(\u001b[0m\u001b[0;34m'Ingrese un valor entero para a '\u001b[0m\u001b[0;34m)\u001b[0m\u001b[0;34m)\u001b[0m\u001b[0;34m\u001b[0m\u001b[0;34m\u001b[0m\u001b[0m\n\u001b[0m\u001b[1;32m      3\u001b[0m \u001b[0mb\u001b[0m \u001b[0;34m=\u001b[0m \u001b[0mint\u001b[0m\u001b[0;34m(\u001b[0m\u001b[0minput\u001b[0m\u001b[0;34m(\u001b[0m\u001b[0;34m'Ingrese un valor entero para b '\u001b[0m\u001b[0;34m)\u001b[0m\u001b[0;34m)\u001b[0m\u001b[0;34m\u001b[0m\u001b[0;34m\u001b[0m\u001b[0m\n\u001b[1;32m      4\u001b[0m \u001b[0mprint\u001b[0m\u001b[0;34m(\u001b[0m\u001b[0;34m'Los valores ingresados fueron '\u001b[0m\u001b[0;34m,\u001b[0m\u001b[0ma\u001b[0m\u001b[0;34m,\u001b[0m\u001b[0;34m' y '\u001b[0m\u001b[0;34m,\u001b[0m\u001b[0mb\u001b[0m\u001b[0;34m,\u001b[0m\u001b[0;34m',y la suma es: '\u001b[0m\u001b[0;34m,\u001b[0m\u001b[0ma\u001b[0m\u001b[0;34m+\u001b[0m\u001b[0mb\u001b[0m\u001b[0;34m)\u001b[0m\u001b[0;34m\u001b[0m\u001b[0;34m\u001b[0m\u001b[0m\n",
            "\u001b[0;31mValueError\u001b[0m: invalid literal for int() with base 10: '2.5'"
          ]
        }
      ]
    },
    {
      "cell_type": "code",
      "metadata": {
        "id": "ipamc3ZZs8CD",
        "colab_type": "code",
        "colab": {
          "base_uri": "https://localhost:8080/",
          "height": 85
        },
        "outputId": "d94f9e0f-df10-477b-ef82-5a1a5b8c5446"
      },
      "source": [
        "#Ejercicio N2 (Que no se cierra cuando ingresas un valor que no es entero)\n",
        "a = float(input('Ingrese un valor entero para a: '))\n",
        "c = a%1\n",
        "while(c!=0):\n",
        "  a = float(input('No se ingresó un valor entero para a, vuelva a ingresar otro valor para a: '))\n",
        "  c = a%1\n",
        "a = int(a)\n",
        "b = float(input('Ingrese un valor entero para b: '))\n",
        "d = b%1\n",
        "while(d!=0):\n",
        "  b = float(input('No se ingresó un valor entero para b, vuelva a ingresar otro valor para b: '))\n",
        "  d = b%1\n",
        "b = int(b)\n",
        "e = a+b\n",
        "print('Los valores ingresados fueron ',a,'y',b,',y la suma es:',e)"
      ],
      "execution_count": 6,
      "outputs": [
        {
          "output_type": "stream",
          "text": [
            "Ingrese un valor entero para a: 1.5\n",
            "No se ingresó un valor entero para a, vuelva a ingresar otro valor para a: 1\n",
            "Ingrese un valor entero para b: 2\n",
            "Los valores ingresados fueron  1  y  2 ,y la suma es:  3\n"
          ],
          "name": "stdout"
        }
      ]
    },
    {
      "cell_type": "code",
      "metadata": {
        "id": "hPRJC5jBrZaX",
        "colab_type": "code",
        "colab": {
          "base_uri": "https://localhost:8080/",
          "height": 85
        },
        "outputId": "8f3e6a78-e5be-40c6-88a7-f86a20d556d4"
      },
      "source": [
        "#Ejercicio N3\n",
        "a = float(input('Ingrese un valor entero para a: '))\n",
        "d = a%1\n",
        "while(d!=0):\n",
        "  a = float(input('No se ingresó un valor entero para a, vuelva a ingresar otro valor para a: '))\n",
        "  d = a%1\n",
        "a = int(a)\n",
        "max = a\n",
        "b = float(input('Ingrese un valor entero para b: '))\n",
        "e = b%1\n",
        "while(e!=0):\n",
        "  b = float(input('No se ingresó un valor entero para b, vuelva a ingresar otro valor para b: '))\n",
        "  e = b%1\n",
        "b = int(b)\n",
        "if (b>max):\n",
        "  max = b\n",
        "c = float(input('Ingrese un valor entero para c: '))\n",
        "f = c%1\n",
        "while(f!=0):\n",
        "  c = float(input('No se ingresó un valor entero para c, vuelva a ingresar otro valor para c: '))\n",
        "  f = c%1\n",
        "c = int(c)\n",
        "if (c>max):\n",
        "  max = c\n",
        "print('Los valores ingresados fueron ',a,'y',b,'y',c,',y el mayor fue:',max)"
      ],
      "execution_count": 10,
      "outputs": [
        {
          "output_type": "stream",
          "text": [
            "Ingrese un valor entero para a: 2\n",
            "Ingrese un valor entero para b: 2\n",
            "Ingrese un valor entero para c: 1\n",
            "Los valores ingresados fueron  2 y 2 y 1 ,y el mayor fue: 2\n"
          ],
          "name": "stdout"
        }
      ]
    }
  ]
}