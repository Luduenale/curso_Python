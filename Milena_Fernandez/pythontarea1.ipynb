{
  "nbformat": 4,
  "nbformat_minor": 0,
  "metadata": {
    "colab": {
      "name": "Untitled0.ipynb",
      "provenance": []
    },
    "kernelspec": {
      "name": "python3",
      "display_name": "Python 3"
    }
  },
  "cells": [
    {
      "cell_type": "code",
      "metadata": {
        "id": "uWiMDINLITda",
        "colab_type": "code",
        "colab": {
          "base_uri": "https://localhost:8080/",
          "height": 68
        },
        "outputId": "c665b5a8-8243-46a7-f4d6-c34bcdfb7ab2"
      },
      "source": [
        "#Punto Nº1:\n",
        "#Realize un programa que permita ingresar por teclado 2 valores ('a' y 'b') y que se imprima por pantalla con el siguiente formato:\n",
        "#\"Los valores ingresados fueron a y b\" ---> reemplazando a y b por sus valores ingresados\n",
        "\n",
        "a = float (input(\"Ingrese un valor: \"))\n",
        "b = float (input(\"Ingrese otro valor: \"))\n",
        "print (\"Los valores ingresados fueron \", a, \"y\" ,b)\n",
        "\n"
      ],
      "execution_count": null,
      "outputs": [
        {
          "output_type": "stream",
          "text": [
            "Ingrese un valor: 2\n",
            "Ingrese otro valor: 3\n",
            "Los valores ingresados fueron  2.0 y 3.0\n"
          ],
          "name": "stdout"
        }
      ]
    },
    {
      "cell_type": "code",
      "metadata": {
        "id": "-MKNUBtkI2ny",
        "colab_type": "code",
        "colab": {}
      },
      "source": [
        "#Punto Nº2:\n",
        "#Realize un programa que permita ingresar por teclado 2 valores enteros ('a' y 'b') y que se imprima por pantalla la suma con el siguiente formato:\n",
        "#\"Los valores ingresados fueron 4 y 5, y la suma es: 9 \" ---> ( para el caso de que a=4 y b=5)"
      ],
      "execution_count": null,
      "outputs": []
    },
    {
      "cell_type": "code",
      "metadata": {
        "id": "5bF_VguIAXi9",
        "colab_type": "code",
        "colab": {
          "base_uri": "https://localhost:8080/",
          "height": 68
        },
        "outputId": "240acbd6-5155-482e-e669-923bb2ad0e10"
      },
      "source": [
        "a = int (input(\"Ingrese un valor: \"))\n",
        "b = int (input(\"Ingrese otro valor: \"))\n",
        "c = a + b\n",
        "print (\"Los valores ingresados fueron \", a , \"y \", b, \" , y la suma es: \", c)"
      ],
      "execution_count": null,
      "outputs": [
        {
          "output_type": "stream",
          "text": [
            "Ingrese un valor: 2\n",
            "Ingrese otro valor: 3\n",
            "Los valores ingresados fueron  2 y  3  , y la suma es:  5\n"
          ],
          "name": "stdout"
        }
      ]
    },
    {
      "cell_type": "code",
      "metadata": {
        "id": "gZ26oaAvI3-D",
        "colab_type": "code",
        "colab": {}
      },
      "source": [
        "#Punto Nº3:\n",
        "#Realize un programa que permita ingresar por teclado 3 valores enteros (a,b y c) e imprima por pantalla el valor mas grande con el siguiente formato:\n",
        "#\"Los valores ingresados fueron 4 y 5 y 8, y el mayor fue: 8 \" --> (para el caso de que a=4, b=5 y c= 8)"
      ],
      "execution_count": null,
      "outputs": []
    },
    {
      "cell_type": "code",
      "metadata": {
        "id": "YfOSNM9XCB3f",
        "colab_type": "code",
        "colab": {
          "base_uri": "https://localhost:8080/",
          "height": 85
        },
        "outputId": "bcc01f6f-adea-4e13-8375-72871ed0330e"
      },
      "source": [
        "a = int (input(\"Ingrese un valor: \"))\n",
        "b = int (input(\"Ingrese otro valor: \"))\n",
        "c = int (input(\"Ingrese otro valor: \"))\n",
        "\n",
        "#if (a >= b and a >= c):\n",
        " #print(\"Los valores ingresados fueron \",a, \" y \",b, \" y \",c, \" y el mayor fue: \",a) \n",
        "#elif (b >= a and b >= c):\n",
        " #print(\"Los valores ingresados fueron \",a, \" y \",b, \" y \",c, \" y el mayor fue: \",b)\n",
        "#elif (c >= a and c >= b):\n",
        " #print(\"Los valores ingresados fueron \",a, \" y \",b, \" y \",c, \", y el mayor fue: \",c)"
      ],
      "execution_count": 2,
      "outputs": [
        {
          "output_type": "stream",
          "text": [
            "Ingrese un valor: 3\n",
            "Ingrese otro valor: 1\n",
            "Ingrese otro valor: 3\n",
            "Los valores ingresados fueron  3  y  1  y  3  y el mayor fue:  3\n"
          ],
          "name": "stdout"
        }
      ]
    },
    {
      "cell_type": "code",
      "metadata": {
        "id": "a2nVpLkiI-fw",
        "colab_type": "code",
        "colab": {
          "base_uri": "https://localhost:8080/",
          "height": 85
        },
        "outputId": "672ec6d9-0e7b-45ab-c475-d50f5e096d32"
      },
      "source": [
        "a = int(input())\n",
        "valormax = a\n",
        "\n",
        "b = int(input())\n",
        "\n",
        "if ( b>= valormax):\n",
        " valormax = b\n",
        "\n",
        "c = int(input())\n",
        "\n",
        "if ( c>= valormax):\n",
        " valormax = c\n",
        "\n",
        "print(valormax)\n",
        "\n"
      ],
      "execution_count": 4,
      "outputs": [
        {
          "output_type": "stream",
          "text": [
            "6\n",
            "4\n",
            "2\n",
            "6\n"
          ],
          "name": "stdout"
        }
      ]
    }
  ]
}