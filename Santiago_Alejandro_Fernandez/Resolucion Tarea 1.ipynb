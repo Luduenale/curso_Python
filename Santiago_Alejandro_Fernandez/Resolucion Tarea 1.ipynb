{
  "nbformat": 4,
  "nbformat_minor": 0,
  "metadata": {
    "colab": {
      "name": "Untitled0.ipynb",
      "provenance": [],
      "collapsed_sections": []
    },
    "kernelspec": {
      "name": "python3",
      "display_name": "Python 3"
    }
  },
  "cells": [
    {
      "cell_type": "code",
      "metadata": {
        "id": "LQtGhnqqIKKb",
        "colab_type": "code",
        "colab": {
          "base_uri": "https://localhost:8080/",
          "height": 68
        },
        "outputId": "e5dbf3a4-531c-413a-c0e1-de579ba47ed9"
      },
      "source": [
        "#Ejercicio 1\n",
        "mensaje = \"Ingrese numero entero: \"\n",
        "a=int(input(mensaje))\n",
        "b=int(input(mensaje))\n",
        "print (\"Los valores ingresados fueron:\", a,\",\", b)"
      ],
      "execution_count": 2,
      "outputs": [
        {
          "output_type": "stream",
          "text": [
            "Ingrese numero entero: 5\n",
            "Ingrese numero entero: 6\n",
            "Los valores ingresados fueron: 5 , 6\n"
          ],
          "name": "stdout"
        }
      ]
    },
    {
      "cell_type": "code",
      "metadata": {
        "id": "GEVC5p9I-ubv",
        "colab_type": "code",
        "colab": {}
      },
      "source": [
        "#Ejercicio 2\n",
        "mensaje1 = \"Ingrese Numero Entero entre 3 y 5: \"\n",
        "mensaje2 = \"Ingrese NUmero Entero entre 4 y 6: \"\n",
        "a=int (input(mensaje1))\n",
        "b=int (input(mensaje2))\n",
        "#como puedo poner todos los print en la misma linea?\n",
        "if(a==4 and b==5):\n",
        "  print (\"4+5 es =\")\n",
        "  print (a+b)\n",
        "else:\n",
        "  print (\"La cagaste hermano\")"
      ],
      "execution_count": null,
      "outputs": []
    },
    {
      "cell_type": "code",
      "metadata": {
        "id": "FD85XAV_KExZ",
        "colab_type": "code",
        "colab": {}
      },
      "source": [
        "#Ejercicio 3\n",
        "mensaje1 = \"Ingrese Numero Entero entre 3 y 5: \"\n",
        "mensaje2 = \"Ingrese NUmero Entero entre 4 y 6: \"\n",
        "mensaje3 = \"Ingrese NUmero Entero entre 7 y 9: \"\n",
        "a=int (input(mensaje1))\n",
        "b=int (input(mensaje2))\n",
        "c=int (input(mensaje3))\n",
        "if (a==4 and b==5 and c ==8):\n",
        "  print (\"Los valores ingresados fueron:\" )\n",
        "  print (a)\n",
        "  print (b)\n",
        "  print (c)\n",
        "  print (\"y el mayor fue\"), print (c)\n",
        "else:\n",
        "  print (\"La cagaste brobro\")"
      ],
      "execution_count": null,
      "outputs": []
    },
    {
      "cell_type": "code",
      "metadata": {
        "id": "37YDLwUJ1Cky",
        "colab_type": "code",
        "colab": {
          "base_uri": "https://localhost:8080/",
          "height": 68
        },
        "outputId": "c2690c7b-ac56-44e1-fc89-c33f380998c5"
      },
      "source": [
        "mensaje1 = \"Ingrese numero entero\"\n",
        "mensaje2 = \"Ingrese otro numero entero\"\n",
        "a=int (input(mensaje1))\n",
        "b=int (input(mensaje2))\n",
        "print (\"los valores ingresados fueron\", a,\",\", b, \"y la suma es\", a+b)"
      ],
      "execution_count": 4,
      "outputs": [
        {
          "output_type": "stream",
          "text": [
            "Ingrese numero entero6\n",
            "Ingrese otro numero entero5\n",
            "los valores ingresados fueron 6 , 5 y la suma es 11\n"
          ],
          "name": "stdout"
        }
      ]
    },
    {
      "cell_type": "code",
      "metadata": {
        "id": "VEtOY5812qPP",
        "colab_type": "code",
        "colab": {
          "base_uri": "https://localhost:8080/",
          "height": 102
        },
        "outputId": "26520d73-028c-4f58-ecae-4988f32c3d79"
      },
      "source": [
        "mensaje1=\"Ingrese numero entero\"\n",
        "mensaje2=\"Ingrese otro numero entero\"\n",
        "a=int(input(mensaje1))\n",
        "b=int(input(mensaje2))\n",
        "c=int(input(mensaje2))\n",
        "print (\"Los valores ingresados fueron\", a, \",\", b, \"y\", c, \"y el mayor fue:\")\n",
        "if (a>=b) and (a>=c) and (a!=b) and (a!=c):\n",
        "  print (a)\n",
        "if (b>=a) and (b>=c) and (b!=a) and (b!=c):\n",
        "  print (b)\n",
        "if (c>=a) and (c>=b) and (c!=b) and (c!=a):\n",
        "  print (c)\n",
        "else:\n",
        "  print (a)"
      ],
      "execution_count": 21,
      "outputs": [
        {
          "output_type": "stream",
          "text": [
            "Ingrese numero entero1\n",
            "Ingrese otro numero entero1\n",
            "Ingrese otro numero entero1\n",
            "Los valores ingresados fueron 1 , 1 y 1 y el mayor fue:\n",
            "1\n"
          ],
          "name": "stdout"
        }
      ]
    },
    {
      "cell_type": "code",
      "metadata": {
        "id": "D-fRyMjN_QGq",
        "colab_type": "code",
        "colab": {
          "base_uri": "https://localhost:8080/",
          "height": 85
        },
        "outputId": "f1c080af-a54d-4bfb-bb1b-ec7cb1267f6f"
      },
      "source": [
        "mensaje1=\"Ingrese numero entero\"\n",
        "mensaje2=\"Ingrese otro numero entero\"\n",
        "max=0\n",
        "a=int(input(mensaje1))\n",
        "if (a>max):\n",
        "  max = a\n",
        "b=int(input(mensaje2))\n",
        "if (b>max):\n",
        "  max = b\n",
        "c=int(input(mensaje2))\n",
        "if (c>max):\n",
        "  max = c\n",
        "print (max)"
      ],
      "execution_count": 22,
      "outputs": [
        {
          "output_type": "stream",
          "text": [
            "Ingrese numero entero10\n",
            "Ingrese otro numero entero20\n",
            "Ingrese otro numero entero30\n",
            "30\n"
          ],
          "name": "stdout"
        }
      ]
    }
  ]
}