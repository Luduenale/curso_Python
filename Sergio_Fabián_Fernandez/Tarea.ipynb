{
  "nbformat": 4,
  "nbformat_minor": 0,
  "metadata": {
    "colab": {
      "name": "Tarea.ipynb",
      "provenance": []
    },
    "kernelspec": {
      "name": "python3",
      "display_name": "Python 3"
    }
  },
  "cells": [
    {
      "cell_type": "code",
      "metadata": {
        "id": "ugyv-wG_0ew-",
        "colab_type": "code",
        "colab": {
          "base_uri": "https://localhost:8080/",
          "height": 85
        },
        "outputId": "762ad36d-0dc1-435b-81a6-4290de2dbcc6"
      },
      "source": [
        "a = input(\"ingrese un valor:\")\n",
        "b = input(\"ingrese un valor:\")\n",
        "print(\"Los valores ingresados fueron\",a,\"y\",b)\n",
        "print(\"puto el que lee\")"
      ],
      "execution_count": null,
      "outputs": [
        {
          "output_type": "stream",
          "text": [
            "ingrese un valor:2\n",
            "ingrese un valor:3\n",
            "Los valores ingresados fueron 2 y 3\n",
            "puto el que lee\n"
          ],
          "name": "stdout"
        }
      ]
    },
    {
      "cell_type": "code",
      "metadata": {
        "id": "RRW7DlI43JBO",
        "colab_type": "code",
        "colab": {
          "base_uri": "https://localhost:8080/",
          "height": 85
        },
        "outputId": "4e7b2f1e-2d54-4efe-9fb5-963d3f1cd4a6"
      },
      "source": [
        "a = int(input(\"ingrese un valor:\"))\n",
        "b = int(input(\"ingrese otro valor:\"))\n",
        "# \"Los valores ingresados fueron 4 y 5, y la suma es: 9 \" ---> ( para el caso de que a=4 y b=5)\n",
        "print(\"Los valores ingresados fueron\",a,\"y\",b,\"y la suma es:\", a + b)\n",
        "print(\"puto el que suma\")"
      ],
      "execution_count": null,
      "outputs": [
        {
          "output_type": "stream",
          "text": [
            "ingrese un valor:3\n",
            "ingrese otro valor:4\n",
            "Los valores ingresados fueron 3 y 4 y la suma es: 7\n",
            "puto el que suma\n"
          ],
          "name": "stdout"
        }
      ]
    },
    {
      "cell_type": "code",
      "metadata": {
        "id": "XsXDbC_D5ImR",
        "colab_type": "code",
        "colab": {
          "base_uri": "https://localhost:8080/",
          "height": 84
        },
        "outputId": "4fa08e2d-8b77-440d-d056-5365d6d861fb"
      },
      "source": [
        "# Realize un programa que permita ingresar por teclado 3 valores enteros (a,b y c) e imprima por pantalla el valor mas grande con el siguiente formato:\n",
        "#\"Los valores ingresados fueron 4 y 5 y 8, y el mayor fue: 8 \" --> (para el caso de que a=4, b=5 y c= 8)\n",
        "a = int(input(\"ingrese valor:\"))\n",
        "max = a\n",
        "b = int(input(\"ingrese valor:\"))\n",
        "if ( max <= b):\n",
        "  max = b\n",
        "c = int(input(\"ingrese valor:\"))\n",
        "if (max <= c):\n",
        "  max = c\n",
        "print(\"el valor maximo ingresado:\",max)\n"
      ],
      "execution_count": 9,
      "outputs": [
        {
          "output_type": "stream",
          "text": [
            "ingrese valor:5\n",
            "ingrese valor:8\n",
            "ingrese valor:1\n",
            "el valor maximo ingresado: 8\n"
          ],
          "name": "stdout"
        }
      ]
    },
    {
      "cell_type": "code",
      "metadata": {
        "id": "oQbxSVEevw0V",
        "colab_type": "code",
        "colab": {}
      },
      "source": [
        "# if (a == b or a == c or c == b):\n",
        " # print(\"los valores deben ser diferentes\")\n",
        "if (a >= b and a >= c ):\n",
        "  print(\"los valores ingresados fueron:\",a,\"y\",b,\"y\",c,\"el mayor fue\",a)\n",
        "if (b > a and b > c ):\n",
        "  print(\"los valores ingresados fueron:\",a,\"y\",b,\"y\",c,\"el mayor fue\",b)\n",
        "if (c > b and c > a ):\n",
        "  print(\"los valores ingresados fueron:\",a,\"y\",b,\"y\",c,\"el mayor fue\",c)"
      ],
      "execution_count": null,
      "outputs": []
    }
  ]
}